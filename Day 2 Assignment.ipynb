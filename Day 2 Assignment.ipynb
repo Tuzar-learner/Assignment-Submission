{
 "cells": [
  {
   "cell_type": "markdown",
   "metadata": {},
   "source": [
    "# Day 2 Assignment\n",
    "## Question 1"
   ]
  },
  {
   "cell_type": "code",
   "execution_count": 5,
   "metadata": {},
   "outputs": [
    {
     "name": "stdout",
     "output_type": "stream",
     "text": [
      "1\n",
      "2\n",
      "3\n",
      "4\n",
      "5\n",
      "6\n",
      "7\n",
      "8\n",
      "9\n",
      "10\n",
      "[2, 4, 6, 8, 10]\n"
     ]
    }
   ],
   "source": [
    "a=[]\n",
    "for i in range(10):\n",
    "    x=int(input())\n",
    "    if x%2==0:\n",
    "        a.append(x)\n",
    "print(a)"
   ]
  },
  {
   "cell_type": "markdown",
   "metadata": {
    "scrolled": true
   },
   "source": [
    "## Question 2"
   ]
  },
  {
   "cell_type": "markdown",
   "metadata": {},
   "source": [
    "### List Comprehension Python"
   ]
  },
  {
   "cell_type": "raw",
   "metadata": {},
   "source": [
    "Suppose, we want to separate the letters of the word human and add the letters as items of a list. The first thing that comes in mind would be using for loop.<br>",
    "<br>",
    "However, Python has an easier way to solve this issue using List Comprehension. List comprehension is an elegant way to define and create lists based on existing lists.<br>",
    "<br>",
    "Let’s see how the above program can be written using list comprehensions.<br>",
    "h_letters = [ letter for letter in 'human' ]<br>",
    "print( h_letters)<br>",
    "When we run the program, the output will be:<br>",
    "<br>",
    "['h', 'u', 'm', 'a', 'n']<br>",
    "In the above example, a new list is assigned to variable h_letters, and list contains the items of the iterable string 'human'. We call print() function to receive the output."
   ]
  },
  {
   "cell_type": "markdown",
   "metadata": {},
   "source": [
    "## Question 3"
   ]
  },
  {
   "cell_type": "code",
   "execution_count": 23,
   "metadata": {},
   "outputs": [
    {
     "name": "stdout",
     "output_type": "stream",
     "text": [
      "4\n",
      "{1: 1, 2: 4, 3: 9, 4: 16}\n"
     ]
    }
   ],
   "source": [
    "d={}\n",
    "n=int(input())\n",
    "for i in range(n):\n",
    "    i=i+1\n",
    "    d.update({i:i*i})\n",
    "print(d)"
   ]
  },
  {
   "cell_type": "markdown",
   "metadata": {},
   "source": [
    "## Question 4"
   ]
  },
  {
   "cell_type": "code",
   "execution_count": 1,
   "metadata": {},
   "outputs": [
    {
     "name": "stdout",
     "output_type": "stream",
     "text": [
      "4\n",
      "UP 5\n",
      "DOWN 3\n",
      "LEFT 3\n",
      "RIGHT 2\n",
      "2\n"
     ]
    }
   ],
   "source": [
    "import math\n",
    "x=0\n",
    "y=0\n",
    "n=int(input())\n",
    "for i in range(n):\n",
    "    d=[\"UP\",\"DOWN\",\"LEFT\",\"RIGHT\"]\n",
    "    if i>=4:\n",
    "        i=i%4\n",
    "    if d[i]==\"UP\":\n",
    "        x=x+int(input(\"UP \"))\n",
    "    if d[i]==\"DOWN\":\n",
    "        x=x-int(input(\"DOWN \"))\n",
    "    if d[i]==\"LEFT\":\n",
    "        y=y+int(input(\"LEFT \"))\n",
    "    if d[i]==\"RIGHT\":\n",
    "        y=y-int(input(\"RIGHT \"))\n",
    "print(round(math.sqrt( ((x)**2)+((y)**2))))"
   ]
  }
 ],
 "metadata": {
  "kernelspec": {
   "display_name": "Python 3",
   "language": "python",
   "name": "python3"
  },
  "language_info": {
   "codemirror_mode": {
    "name": "ipython",
    "version": 3
   },
   "file_extension": ".py",
   "mimetype": "text/x-python",
   "name": "python",
   "nbconvert_exporter": "python",
   "pygments_lexer": "ipython3",
   "version": "3.8.3"
  }
 },
 "nbformat": 4,
 "nbformat_minor": 4
}
